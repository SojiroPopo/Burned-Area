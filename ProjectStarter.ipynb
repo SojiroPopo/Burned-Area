{
 "cells": [
  {
   "cell_type": "markdown",
   "metadata": {},
   "source": [
    "# Final Project Geoscripting\n",
    "**Team: Imperfect_GeoCircle \n",
    "**Authors: Yanuar Bomantara & Thijs Seubring \n",
    "**Date: 28-01-2021"
   ]
  },
  {
   "cell_type": "markdown",
   "metadata": {},
   "source": [
    "## Introduction\n",
    "Wildfires are happening more and more around the world. Information about these fires is key for the safety of people. We want to create a program that gives information on past fires. This program will provide valuable insight in land cover that is affected by wildfires. The program can be used anywhere on the world, so anyone concerned by forest fires can use it.\n",
    "\n",
    "The burned area data is provided by ESA and is retrieved from from GEE using the python API. More information on this data-set can be found [here.][https://developers.google.com/earth-engine/datasets/catalog/ESA_CCI_FireCCI_5_1]. The user defines their own AOI by drawing a vector on the voila map.\n",
    "\n",
    "To start this program as an interactive web apps please click Voila button in the top bar of this notebook."
   ]
  },
  {
   "cell_type": "markdown",
   "metadata": {},
   "source": [
    "## Calculating Burned Area\n",
    "\n",
    "**Steps to create a Burned Area Map:**\n",
    "\n",
    "1. Pan and zoom to your region of interest.\n",
    "2. Use the drawing tool to draw a rectangle anywhere on the map.\n",
    "3. Adjust the parameters (start year and end year).\n",
    "4. Click the 'Submit AOI' button to create Area of Interest.\n",
    "5. Click the 'Submit' button to load burned area into map (wait until the notification process finished).\n",
    "6. Generate chart by clicking 'Generate Chart' button."
   ]
  },
  {
   "cell_type": "code",
   "execution_count": null,
   "metadata": {},
   "outputs": [],
   "source": [
    "# Backup command just in case you need it\n",
    "\n",
    "#conda install geemap\n",
    "#conda install ee\n",
    "#conda install rasterio\n",
    "\n",
    "#ee.Authenticate()\n",
    "#ee. Initialize()\n",
    "\n",
    "## Make sure to put this cell into comment again after used it before you execute Voila"
   ]
  },
  {
   "cell_type": "code",
   "execution_count": null,
   "metadata": {},
   "outputs": [],
   "source": [
    "#Importing Library\n",
    "import os\n",
    "import ee\n",
    "import geemap\n",
    "import gdal\n",
    "import ipywidgets as widgets\n",
    "from IPython.display import display\n",
    "import numpy\n",
    "import matplotlib.pyplot as plt"
   ]
  },
  {
   "cell_type": "code",
   "execution_count": null,
   "metadata": {},
   "outputs": [],
   "source": [
    "#Importing Function\n",
    "import GetBurnedArea as functs"
   ]
  },
  {
   "cell_type": "code",
   "execution_count": null,
   "metadata": {},
   "outputs": [],
   "source": [
    "#Load the basic map from geemap library\n",
    "\n",
    "Map = geemap.Map()\n",
    "Map"
   ]
  },
  {
   "cell_type": "code",
   "execution_count": null,
   "metadata": {},
   "outputs": [],
   "source": [
    "#Create legend for the Map\n",
    "\n",
    "legend_dict = {\n",
    "    'Cropland': (237,167,14),\n",
    "    'Forest': (8, 133, 16),\n",
    "    'Shrubland': (14, 176, 127),\n",
    "    'Grassland' : (178, 224, 135)\n",
    "}\n",
    "Map.add_legend(legend_title='Land Cover', legend_dict=legend_dict, position='bottomright')"
   ]
  },
  {
   "cell_type": "code",
   "execution_count": null,
   "metadata": {},
   "outputs": [],
   "source": [
    "#Define Map Style\n",
    "\n",
    "style = {'description_width': 'initial'}\n",
    "title = widgets.Text(\n",
    "    description='Title:',\n",
    "    value='Burned Area',\n",
    "    width=200,\n",
    "    style=style\n",
    ")"
   ]
  },
  {
   "cell_type": "code",
   "execution_count": null,
   "metadata": {},
   "outputs": [],
   "source": [
    "# Define the AOI and pass it to widget button \n",
    "\n",
    "feature=None\n",
    "roi=None\n",
    "\n",
    "refresh = widgets.Button(\n",
    "    description='Submit AOI',\n",
    "    button_style='primary',\n",
    "    tooltip='Click to submit Area of Interest from your draw',\n",
    "    style=style\n",
    ")\n",
    "\n",
    "def refresh_clicked(b):\n",
    "    global feature\n",
    "    global roi\n",
    "    feature = Map.draw_last_feature\n",
    "    roi = feature.geometry()\n",
    "    \n",
    "refresh.on_click(refresh_clicked)"
   ]
  },
  {
   "cell_type": "code",
   "execution_count": null,
   "metadata": {},
   "outputs": [],
   "source": [
    "# Create directory\n",
    "\n",
    "out_dir = os.path.join(os.path.expanduser('~'), 'Downloads')\n",
    "if not os.path.exists(out_dir):\n",
    "    os.makedirs(out_dir)"
   ]
  },
  {
   "cell_type": "code",
   "execution_count": null,
   "metadata": {},
   "outputs": [],
   "source": [
    "# Define start year variable and pass it to slider widget\n",
    "start_year = widgets.IntSlider(description='Start Year:', value=20001, min=2001, max=2019, style=style)"
   ]
  },
  {
   "cell_type": "code",
   "execution_count": null,
   "metadata": {},
   "outputs": [],
   "source": [
    "# Define end year variable and pass it to slider widget\n",
    "end_year = widgets.IntSlider(description='End Year:', value=2019, min=2001, max=2019, style=style)"
   ]
  },
  {
   "cell_type": "code",
   "execution_count": null,
   "metadata": {},
   "outputs": [],
   "source": [
    "# Define slider widget\n",
    "hbox1 = widgets.HBox([start_year, end_year])\n",
    "hbox1"
   ]
  },
  {
   "cell_type": "code",
   "execution_count": null,
   "metadata": {},
   "outputs": [],
   "source": [
    "# Define Submint button widget\n",
    "\n",
    "output = widgets.Output()\n",
    "\n",
    "BurnedArea={}\n",
    "\n",
    "submit = widgets.Button(\n",
    "    description='Submit',\n",
    "    button_style='primary',\n",
    "    tooltip='Click the submit to execute',\n",
    "    style=style\n",
    ")"
   ]
  },
  {
   "cell_type": "code",
   "execution_count": null,
   "metadata": {},
   "outputs": [],
   "source": [
    "# Demonstrate AddMap function to add the result maps on the map and pass it to submit button widget\n",
    "\n",
    "def AddMap(b) :\n",
    "    for i in range(start_year.value, end_year.value +1):\n",
    "        startdate = str(i)+'-01-01'\n",
    "        enddate = str(i)+'-12-31'\n",
    "        baVis = {\n",
    "            'min': 10,\n",
    "            'max': 180,\n",
    "            'palette': [\n",
    "                'eda70e', 'eda70e', 'eda70e', '0eb07f', '088510', '088510',\n",
    "                '088510', '088510', '088510', '088510', '088510', '0eb07f',\n",
    "                'b2e087', 'b2e087', 'b2e087', '088510', '0eb07f',\n",
    "            ]\n",
    "        }\n",
    "\n",
    "        dataset = ee.ImageCollection('ESA/CCI/FireCCI/5_1').filterDate(str(startdate), str(enddate))\n",
    "        burnedArea = dataset.select('LandCover')\n",
    "        maxBA = burnedArea.max()\n",
    "        maxBAclip = maxBA.clip(feature)\n",
    "        Map.addLayer(maxBAclip, baVis, str(i)+' Burned Area')\n",
    "            \n",
    "            \n",
    "\n",
    "submit.on_click(AddMap)"
   ]
  },
  {
   "cell_type": "code",
   "execution_count": null,
   "metadata": {},
   "outputs": [],
   "source": [
    "# Demonstrate function to download maps data from each year and make dictionary that save surface area of burned area\n",
    "\n",
    "def submit_clicked(b):\n",
    "    with output:\n",
    "        output.clear_output()\n",
    "        if start_year.value > end_year.value:\n",
    "            print('The end year must be great than the start year.')\n",
    "        \n",
    "        global BurnedArea\n",
    "        BurnedArea = {}\n",
    "        for i in range(start_year.value, end_year.value +1):\n",
    "            BAyear = functs.GetBurnedArea(i,feature)\n",
    "            BurnedArea[i]= BAyear\n",
    "        return(BurnedArea)\n",
    "            \n",
    "submit.on_click(submit_clicked)"
   ]
  },
  {
   "cell_type": "code",
   "execution_count": null,
   "metadata": {},
   "outputs": [],
   "source": [
    "# Variable to pass Submit AOI button widget\n",
    "refresh"
   ]
  },
  {
   "cell_type": "code",
   "execution_count": null,
   "metadata": {},
   "outputs": [],
   "source": [
    "# Variable to pass Submit button widget\n",
    "submit"
   ]
  },
  {
   "cell_type": "code",
   "execution_count": null,
   "metadata": {},
   "outputs": [],
   "source": [
    "# Demonstrate function to plot the histogram from the BurnedArea dictionary and pass it to Generate Chart button widget.\n",
    "\n",
    "from ipywidgets.widgets.interaction import show_inline_matplotlib_plots\n",
    "\n",
    "chart = widgets.Button(\n",
    "    description='Generate Chart',\n",
    "    button_style='primary',\n",
    "    tooltip='Click the submit to generate chart',\n",
    "    style=style\n",
    ")\n",
    "\n",
    "def chart_clicked(b):\n",
    "    with output :\n",
    "        output.clear_output()\n",
    "        global BurnedArea\n",
    "        functs.BurntAreaPlot(BurnedArea)\n",
    "        show_inline_matplotlib_plots()\n",
    "    \n",
    "chart.on_click(chart_clicked)"
   ]
  },
  {
   "cell_type": "code",
   "execution_count": null,
   "metadata": {},
   "outputs": [],
   "source": [
    "# Variable to pass Generate button widget\n",
    "chart"
   ]
  },
  {
   "cell_type": "code",
   "execution_count": null,
   "metadata": {},
   "outputs": [],
   "source": [
    "output"
   ]
  }
 ],
 "metadata": {
  "hide_input": true,
  "kernelspec": {
   "display_name": "Python 3",
   "language": "python",
   "name": "python3"
  },
  "language_info": {
   "codemirror_mode": {
    "name": "ipython",
    "version": 3
   },
   "file_extension": ".py",
   "mimetype": "text/x-python",
   "name": "python",
   "nbconvert_exporter": "python",
   "pygments_lexer": "ipython3",
   "version": "3.8.2"
  },
  "toc": {
   "base_numbering": 1,
   "nav_menu": {},
   "number_sections": true,
   "sideBar": true,
   "skip_h1_title": true,
   "title_cell": "Table of Contents",
   "title_sidebar": "Table of Contents",
   "toc_cell": false,
   "toc_position": {},
   "toc_section_display": true,
   "toc_window_display": true
  },
  "varInspector": {
   "cols": {
    "lenName": 16,
    "lenType": 16,
    "lenVar": 40
   },
   "kernels_config": {
    "python": {
     "delete_cmd_postfix": "",
     "delete_cmd_prefix": "del ",
     "library": "var_list.py",
     "varRefreshCmd": "print(var_dic_list())"
    },
    "r": {
     "delete_cmd_postfix": ") ",
     "delete_cmd_prefix": "rm(",
     "library": "var_list.r",
     "varRefreshCmd": "cat(var_dic_list()) "
    }
   },
   "types_to_exclude": [
    "module",
    "function",
    "builtin_function_or_method",
    "instance",
    "_Feature"
   ],
   "window_display": false
  }
 },
 "nbformat": 4,
 "nbformat_minor": 4
}
